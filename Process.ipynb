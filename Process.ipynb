{
 "metadata": {
  "name": ""
 },
 "nbformat": 3,
 "nbformat_minor": 0,
 "worksheets": [
  {
   "cells": [
    {
     "cell_type": "heading",
     "level": 2,
     "metadata": {},
     "source": [
      "Overview and Motivation"
     ]
    },
    {
     "cell_type": "markdown",
     "metadata": {},
     "source": [
      "Through kaggle.com, we participated in predictive stock price modeling competition in the hack/reduce space at the Boston Data Festival, sponsored by DataRobot. Our challenge was to predict whether a stock would go up or down on a particular day, given the stock's pricing data from the 10 days prior. After experimenting with various models and attempting to blend models, we eventually reached 94.119% accuracy with our predictions. In the end, we won 1st place in the competition. Through this engaging and rewarding experience with predictive stock price modeling, we became very excited about the real-world applications of this kind of model and wanted to go more in depth into our predictive analysis after the hackathon. Our CS109 final project gave us a structured opportunity to extend our work on this model. Overall, our project goals were: \n",
      "\n",
      "1. Build well-adjusted models for predicting stock price movements in various contexts, such as growth stocks, value stocks, and penny stocks. Quantify how successful our models are. \n",
      "2. Glean insight about how stock prices work in various contexts and and how predictable they are by our models or predictive models in general.\n",
      "3. ???\n",
      "4. Profit"
     ]
    },
    {
     "cell_type": "heading",
     "level": 2,
     "metadata": {},
     "source": [
      "Related Work"
     ]
    },
    {
     "cell_type": "markdown",
     "metadata": {},
     "source": [
      "We were inspired by the successes we've seen in algorithmic trading and computer-assisted stock analysis, we \n",
      "\n",
      "Sebastian's prior work with finance data?\n",
      "Any papers or websites that inspired us?"
     ]
    },
    {
     "cell_type": "heading",
     "level": 2,
     "metadata": {},
     "source": [
      "Initial Questions"
     ]
    },
    {
     "cell_type": "markdown",
     "metadata": {},
     "source": [
      "Based on information about a stock's opening and closing prices over a series of days, we initially tried to determine the directional movement of a stock's price on a particular day. Over the course of our project, we refined our question to consider differences in our model's prediction potential among different categories of stocks, such as technology, energy, and consumer services. "
     ]
    },
    {
     "cell_type": "heading",
     "level": 2,
     "metadata": {},
     "source": [
      "Data"
     ]
    },
    {
     "cell_type": "markdown",
     "metadata": {},
     "source": [
      "The initial dataset we used was a dataset used by Hack/Reduce at the Boston Data Festival Predictive Modeling Hackathon. The training data consisted of the opening, closing, maximum and minimum prices for 94 stocks over 500 days. The hackathon dataset used data from 20 years ago, and we wanted to "
     ]
    }
   ],
   "metadata": {}
  }
 ]
}